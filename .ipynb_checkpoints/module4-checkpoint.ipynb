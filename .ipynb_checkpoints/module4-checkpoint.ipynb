{
 "cells": [
  {
   "cell_type": "code",
   "execution_count": null,
   "id": "b25ed99e",
   "metadata": {},
   "outputs": [],
   "source": [
    "import copy\n",
    "import math\n",
    "import matplotlib.pyplot as plt"
   ]
  },
  {
   "cell_type": "code",
   "execution_count": null,
   "id": "897f91ec",
   "metadata": {},
   "outputs": [],
   "source": [
    "# r1: amount of asset 1\n",
    "# r2: amount of asset 1\n",
    "# s: pool shares\n",
    "# fee: trading fee\n",
    "genesis = {\n",
    "    \"AMM\":{\"r1\":100,\"r2\":100,\"s\":100,\"fee\":0.00},\n",
    "    \"Trader\":{\"r1\":100,\"r2\":100,\"s\":0},\n",
    "    \"LP\":{\"r1\":0,\"r2\":0,\"s\":100}\n",
    "}"
   ]
  },
  {
   "cell_type": "code",
   "execution_count": null,
   "id": "745f72d6",
   "metadata": {},
   "outputs": [],
   "source": [
    "def update_pool_fees(state, fee):\n",
    "    if type(fee)==float and fee >= 0 and fee < 1:\n",
    "        state[\"AMM\"][\"fee\"] = fee\n",
    "    else:\n",
    "        raise TypeError('Only floats between 0 and 1 are allowed')"
   ]
  },
  {
   "cell_type": "code",
   "execution_count": null,
   "id": "a7d2983a",
   "metadata": {},
   "outputs": [],
   "source": [
    "# state: at first genesis as defined above\n",
    "# inputs = [agent_name, delta_r1]\n",
    "def swapToAsset2(state,inputs):\n",
    "    agent = inputs[0]\n",
    "    dA1 = inputs[1]\n",
    "    feeFactor = (1-state[\"AMM\"][\"fee\"])\n",
    "    dA2 = state[\"AMM\"][\"r2\"]/(state[\"AMM\"][\"r1\"]+dA1*feeFactor)*dA1*feeFactor\n",
    "    if dA1>0 and state[agent][\"r1\"]-dA1 >= 0 :\n",
    "        state[\"AMM\"][\"r1\"]+=dA1\n",
    "        state[agent][\"r1\"]-=dA1\n",
    "        state[\"AMM\"][\"r2\"]-=dA2\n",
    "        state[agent][\"r2\"]+=dA2 "
   ]
  },
  {
   "cell_type": "code",
   "execution_count": null,
   "id": "b3355def",
   "metadata": {},
   "outputs": [],
   "source": [
    "# state: at first genesis as defined above\n",
    "# inputs = [agent_name, delta_r2]\n",
    "def swapToAsset1(state,inputs):\n",
    "    agent = inputs[0]\n",
    "    dA2 = inputs[1]\n",
    "    feeFactor = (1-state[\"AMM\"][\"fee\"])\n",
    "    dA1 = state[\"AMM\"][\"r1\"]/(state[\"AMM\"][\"r2\"]+dA2*feeFactor)*dA2*feeFactor\n",
    "    if dA2>0 and state[agent][\"r2\"]-dA2 >= 0 :\n",
    "        state[\"AMM\"][\"r2\"]+=dA2\n",
    "        state[agent][\"r2\"]-=dA2\n",
    "        state[\"AMM\"][\"r1\"]-=dA1\n",
    "        state[agent][\"r1\"]+=dA1 "
   ]
  },
  {
   "cell_type": "code",
   "execution_count": null,
   "id": "84caffff",
   "metadata": {},
   "outputs": [],
   "source": [
    "def pctToAmount(r,pct):\n",
    "    if type(pct)==int and pct >= 0 and pct <= 100:\n",
    "        return (r/100) * pct\n",
    "    else:\n",
    "        raise TypeError('Only integers between 0 and 100 are allowed')"
   ]
  },
  {
   "cell_type": "code",
   "execution_count": null,
   "id": "827577d2",
   "metadata": {},
   "outputs": [],
   "source": [
    "# state: at first genesis as defined above\n",
    "# inputs_pct = [agent_name, delta_r1_pct]\n",
    "def swapToAsset2_pct(state,inputs_pct):\n",
    "    agent = inputs_pct[0]\n",
    "    inputs = [\n",
    "        inputs_pct[0],\n",
    "        pctToAmount(state[agent][\"r1\"], inputs_pct[1])\n",
    "    ]\n",
    "    swapToAsset2(state,inputs)"
   ]
  },
  {
   "cell_type": "code",
   "execution_count": null,
   "id": "2698680a",
   "metadata": {},
   "outputs": [],
   "source": [
    "# state: at first genesis as defined above\n",
    "# inputs_pct = [agent_name, delta_r2_pct]\n",
    "def swapToAsset1_pct(state,inputs_pct):\n",
    "    agent = inputs_pct[0]\n",
    "    inputs = [\n",
    "        inputs_pct[0],\n",
    "        pctToAmount(state[agent][\"r2\"], inputs_pct[1])\n",
    "    ]\n",
    "    swapToAsset1(state,inputs)"
   ]
  },
  {
   "cell_type": "code",
   "execution_count": null,
   "id": "45c19d94",
   "metadata": {},
   "outputs": [],
   "source": [
    "def addLiquidity(state,inputs):\n",
    "    agent = inputs[0]\n",
    "    R1=state[\"AMM\"][\"r1\"]\n",
    "    R2=state[\"AMM\"][\"r2\"]\n",
    "    S=state[\"AMM\"][\"s\"]\n",
    "    dA1=min(inputs[1],R1/R2*inputs[2])\n",
    "    dA2=min(inputs[2],R2/R1*inputs[1])\n",
    "    if (dA1 <= state[agent][\"r1\"] and dA2 <= state[agent][\"r2\"]) and (dA1 > 0 and dA2 > 0):\n",
    "        state[agent][\"r1\"]-=dA1\n",
    "        state[agent][\"r2\"]-=dA2\n",
    "        state[\"AMM\"][\"r1\"]+=dA1\n",
    "        state[\"AMM\"][\"r2\"]+=dA2\n",
    "        dS = min(dA1/R1, dA2/R2) * S\n",
    "        state[\"AMM\"][\"s\"]+=dS\n",
    "        state[agent][\"s\"]+=dS"
   ]
  },
  {
   "cell_type": "code",
   "execution_count": null,
   "id": "16a4e4bd",
   "metadata": {},
   "outputs": [],
   "source": [
    "def removeLiquidity(state,inputs):\n",
    "    dS = inputs[1]\n",
    "    agent = inputs[0]\n",
    "    if dS > 0 and state[agent][\"s\"]-dS>=0 and state[\"AMM\"][\"s\"]-dS>=0:\n",
    "        DR = (1-dS/state[\"AMM\"][\"s\"])\n",
    "        R1=state[\"AMM\"][\"r1\"]\n",
    "        R2=state[\"AMM\"][\"r2\"]\n",
    "        state[agent][\"s\"]-=dS\n",
    "        state[\"AMM\"][\"r1\"]=R1*DR\n",
    "        state[\"AMM\"][\"r2\"]=R2*DR\n",
    "        state[agent][\"r1\"]+=R1-state[\"AMM\"][\"r1\"]\n",
    "        state[agent][\"r2\"]+=R2-state[\"AMM\"][\"r2\"]\n",
    "        state[\"AMM\"][\"s\"]-=dS"
   ]
  },
  {
   "cell_type": "code",
   "execution_count": null,
   "id": "46f428af",
   "metadata": {},
   "outputs": [],
   "source": [
    "def nice_print(self):\n",
    "    if type(self)==float:\n",
    "        return round(self,3)\n",
    "    if type(self)==int:\n",
    "        return self\n",
    "    if type(self)==list:\n",
    "        return list(map(lambda l: print(l),self))\n",
    "    if type(self)==dict:\n",
    "        return dict(map(lambda kv: (kv[0], print(kv[1])),self.items()))"
   ]
  },
  {
   "cell_type": "code",
   "execution_count": null,
   "id": "3714f207",
   "metadata": {},
   "outputs": [],
   "source": [
    "def check_genesis_block(state):\n",
    "    if state[\"AMM\"][\"fee\"] < 0 or state[\"AMM\"][\"fee\"] >= 1:\n",
    "        return False\n",
    "    shares = -state[\"AMM\"][\"s\"]\n",
    "    for agent in state:\n",
    "        if state[agent][\"r1\"] < 0 or state[agent][\"r2\"] < 0 or state[agent][\"s\"] < 0:\n",
    "            return False\n",
    "        shares += state[agent][\"s\"]\n",
    "    if shares != state[\"AMM\"][\"s\"]:\n",
    "        return False\n",
    "    return True"
   ]
  },
  {
   "cell_type": "code",
   "execution_count": null,
   "id": "55547851",
   "metadata": {},
   "outputs": [],
   "source": [
    "def fiat_print_holdings(state, agent = \"Trader\", token1 = {\"name\": \"r1\", \"price\": 5}, token2 = {\"name\": \"r2\", \"price\": 3}, ref_currency = \"USD\"):\n",
    "    return state[agent][token1[\"name\"]] * token1[\"price\"] + state[agent][token2[\"name\"]] * token2[\"price\"]"
   ]
  },
  {
   "cell_type": "code",
   "execution_count": null,
   "id": "ea4f87e6",
   "metadata": {},
   "outputs": [],
   "source": [
    "actionList = [\n",
    "    [ swapToAsset2 , [  \"Trader\" , 50 ]],\n",
    "    [ swapToAsset1 , [  \"Trader\" , 25 ]]\n",
    "]"
   ]
  },
  {
   "cell_type": "code",
   "execution_count": null,
   "id": "4a2daf5d",
   "metadata": {},
   "outputs": [],
   "source": [
    "def evolve(state, actionStack):\n",
    "    history = [copy.deepcopy(state)]\n",
    "    for action in actionStack:\n",
    "        action[0](state,action[1])\n",
    "        history.append(copy.deepcopy(state))\n",
    "    return history "
   ]
  },
  {
   "cell_type": "markdown",
   "id": "f8358017",
   "metadata": {},
   "source": [
    "# Simple Tests"
   ]
  },
  {
   "cell_type": "code",
   "execution_count": null,
   "id": "33c379de",
   "metadata": {},
   "outputs": [],
   "source": [
    "evolve(genesis,actionList)\n",
    "genesis"
   ]
  },
  {
   "cell_type": "code",
   "execution_count": null,
   "id": "354d1bbf",
   "metadata": {},
   "outputs": [],
   "source": [
    "update_pool_fees(genesis, 0.05)\n",
    "genesis"
   ]
  },
  {
   "cell_type": "code",
   "execution_count": null,
   "id": "e240e390",
   "metadata": {},
   "outputs": [],
   "source": [
    "swapToAsset1_pct(genesis,[\"Trader\", 30])\n",
    "genesis"
   ]
  },
  {
   "cell_type": "code",
   "execution_count": null,
   "id": "8e60aeea",
   "metadata": {},
   "outputs": [],
   "source": [
    "check_genesis_block(genesis)"
   ]
  },
  {
   "cell_type": "code",
   "execution_count": null,
   "id": "783ca1b4",
   "metadata": {},
   "outputs": [],
   "source": [
    "fiat_print_holdings(genesis)"
   ]
  },
  {
   "cell_type": "markdown",
   "id": "c66df809",
   "metadata": {},
   "source": [
    "nice_print(genesis)"
   ]
  },
  {
   "cell_type": "markdown",
   "id": "16b22054",
   "metadata": {},
   "source": [
    "# Verifying the Digital Twin"
   ]
  },
  {
   "cell_type": "code",
   "execution_count": null,
   "id": "53b79e74",
   "metadata": {},
   "outputs": [],
   "source": [
    "def invariant(state):\n",
    "    return state[\"AMM\"][\"r1\"] * state[\"AMM\"][\"r2\"]\n",
    "\n",
    "def asset1(state):\n",
    "    return state[\"AMM\"][\"r1\"] + state[\"Trader\"][\"r1\"] + state[\"LP\"][\"r1\"]\n",
    "\n",
    "def asset2(state):\n",
    "    return state[\"AMM\"][\"r2\"] + state[\"Trader\"][\"r2\"] + state[\"LP\"][\"r2\"]"
   ]
  },
  {
   "cell_type": "markdown",
   "id": "53edb8fc",
   "metadata": {},
   "source": [
    "## Test 1"
   ]
  },
  {
   "cell_type": "code",
   "execution_count": null,
   "id": "919f1873",
   "metadata": {},
   "outputs": [],
   "source": [
    "genesis = {\n",
    "    \"AMM\":{\"r1\":100,\"r2\":100,\"s\":100,\"fee\":0.0},\n",
    "    \"Trader\":{\"r1\":100,\"r2\":100,\"s\":0},\n",
    "    \"Liquidator\":{\"r1\":0,\"r2\":0,\"s\":100}\n",
    "}\n",
    "\n",
    "state = copy.deepcopy(genesis)\n",
    "\n",
    "swapToAsset2(state, [\"Trader\",13])\n",
    "\n",
    "invariant(genesis) == invariant(state)"
   ]
  },
  {
   "cell_type": "markdown",
   "id": "4d96322f",
   "metadata": {},
   "source": [
    "## Test 2"
   ]
  },
  {
   "cell_type": "code",
   "execution_count": null,
   "id": "6dd9ab43",
   "metadata": {},
   "outputs": [],
   "source": [
    "genesis = {\n",
    "    \"AMM\":{\"r1\":100,\"r2\":100,\"s\":100,\"fee\":0.01},\n",
    "    \"Trader\":{\"r1\":100,\"r2\":100,\"s\":0},\n",
    "    \"Liquidator\":{\"r1\":0,\"r2\":0,\"s\":100}\n",
    "}\n",
    "\n",
    "state = copy.deepcopy(genesis)\n",
    "\n",
    "swapToAsset2(state, [\"Trader\",13])\n",
    "\n",
    "invariant(genesis) != invariant(state)"
   ]
  },
  {
   "cell_type": "markdown",
   "id": "af50f0da",
   "metadata": {},
   "source": [
    "## Test 3"
   ]
  },
  {
   "cell_type": "code",
   "execution_count": null,
   "id": "3a1c6c2e",
   "metadata": {},
   "outputs": [],
   "source": [
    "genesis = {\n",
    "    \"AMM\":{\"r1\":100,\"r2\":100,\"s\":100,\"fee\":0.0},\n",
    "    \"Trader\":{\"r1\":100,\"r2\":100,\"s\":0},\n",
    "    \"LP\":{\"r1\":0,\"r2\":0,\"s\":100}\n",
    "}\n",
    "\n",
    "state = copy.deepcopy(genesis)\n",
    "\n",
    "swapToAsset1(state,[\"Trader\",13])\n",
    "\n",
    "asset1(genesis)==asset1(state) and asset2(genesis)==asset2(state)"
   ]
  },
  {
   "cell_type": "markdown",
   "id": "07894297",
   "metadata": {},
   "source": [
    "## Test 4"
   ]
  },
  {
   "cell_type": "code",
   "execution_count": null,
   "id": "263bf6a0",
   "metadata": {},
   "outputs": [],
   "source": [
    "genesis = {\n",
    "    \"AMM\":{\"r1\":100,\"r2\":100,\"s\":100,\"fee\":0.0},\n",
    "    \"Trader\":{\"r1\":100,\"r2\":100,\"s\":0},\n",
    "    \"LP\":{\"r1\":0,\"r2\":0,\"s\":100}\n",
    "}\n",
    "\n",
    "state = copy.deepcopy(genesis)\n",
    "\n",
    "swapToAsset1(state,[\"Trader\",13])\n",
    "\n",
    "gained = state[\"Trader\"][\"r1\"] - genesis[\"Trader\"][\"r1\"]\n",
    "\n",
    "swapToAsset2(state,[\"Trader\",gained])\n",
    "\n",
    "genesis == state"
   ]
  },
  {
   "cell_type": "markdown",
   "id": "7b21ae59",
   "metadata": {},
   "source": [
    "## Test 5"
   ]
  },
  {
   "cell_type": "code",
   "execution_count": null,
   "id": "a69c479f",
   "metadata": {},
   "outputs": [],
   "source": [
    "genesis = {\n",
    "    \"AMM\":{\"r1\":100,\"r2\":100,\"s\":100,\"fee\":0.0},\n",
    "    \"Trader\":{\"r1\":100,\"r2\":100,\"s\":0},\n",
    "    \"LP\":{\"r1\":0,\"r2\":0,\"s\":100}\n",
    "}\n",
    "\n",
    "state = copy.deepcopy(genesis)\n",
    "\n",
    "addLiquidity(state, [\"Trader\", 30, 40])\n",
    "\n",
    "gained_r1 = abs(state[\"Trader\"][\"r1\"] - genesis[\"Trader\"][\"r1\"])\n",
    "gained_r2 = abs(state[\"Trader\"][\"r2\"] - genesis[\"Trader\"][\"r2\"])\n",
    "\n",
    "removeLiquidity(state, [\"Trader\", gained_r1, gained_r2])\n",
    "\n",
    "state == genesis"
   ]
  },
  {
   "cell_type": "markdown",
   "id": "b73732fc",
   "metadata": {},
   "source": [
    "## Test 6"
   ]
  },
  {
   "cell_type": "code",
   "execution_count": null,
   "id": "cacee2a7",
   "metadata": {},
   "outputs": [],
   "source": [
    "genesis = {\n",
    "    \"AMM\":{\"r1\":99,\"r2\":1,\"s\":math.sqrt(99),\"fee\":0.0},\n",
    "    \"Trader\":{\"r1\":1,\"r2\":99,\"s\":0},\n",
    "    \"LP\":{\"r1\":200,\"r2\":200,\"s\":100}\n",
    "    }\n",
    "\n",
    "# multiplication operator * on a list creates multiple repetitions of the original list\n",
    "actionList= [ [swapToAsset1,[\"Trader\",1]] ] * 99\n",
    "\n",
    "history = evolve(genesis, actionList)\n",
    "\n",
    "AMM_r1=[]\n",
    "Trader_r1=[]\n",
    "AMM_r2=[]\n",
    "Trader_r2=[]\n",
    "for s in history:\n",
    "    AMM_r1.append(s[\"AMM\"][\"r1\"])\n",
    "    Trader_r1.append(s[\"Trader\"][\"r1\"])\n",
    "    AMM_r2.append(s[\"AMM\"][\"r2\"])\n",
    "    Trader_r2.append(s[\"Trader\"][\"r2\"])   \n",
    "\n",
    "\n",
    "plt.figure(figsize=(10,4)) \n",
    "    \n",
    "plt.subplot(1, 2, 1) # one row, two columns, 1st column\n",
    "plt.plot(AMM_r1,AMM_r2)\n",
    "plt.title('AMM')\n",
    "plt.xlabel(\"Asset 1\")\n",
    "plt.ylabel(\"Asset 2\")\n",
    "\n",
    "plt.subplot(1, 2, 2) # one row, two columns, 2nd column\n",
    "plt.plot(Trader_r1,Trader_r2)\n",
    "plt.title('Trader')\n",
    "plt.xlabel(\"Asset 1\")\n",
    "plt.ylabel(\"Asset 2\")"
   ]
  },
  {
   "cell_type": "markdown",
   "id": "a9c80d5f",
   "metadata": {},
   "source": [
    "## Test 7"
   ]
  },
  {
   "cell_type": "code",
   "execution_count": null,
   "id": "ec7a5097",
   "metadata": {},
   "outputs": [],
   "source": [
    "actionList.insert(0,[addLiquidity,[\"LP\",100,100]])\n",
    "\n",
    "genesis = {\n",
    "    \"AMM\":{\"r1\":99,\"r2\":1,\"s\":math.sqrt(99),\"fee\":0.0},\n",
    "    \"Trader\":{\"r1\":1,\"r2\":99,\"s\":0},\n",
    "    \"LP\":{\"r1\":200,\"r2\":200,\"s\":100}\n",
    "    }\n",
    "\n",
    "history = evolve(genesis, actionList)\n",
    "\n",
    "AMM_2r1=[]\n",
    "Trader_2r1=[]\n",
    "AMM_2r2=[]\n",
    "Trader_2r2=[]\n",
    "for s in history:\n",
    "    AMM_2r1.append(s[\"AMM\"][\"r1\"])\n",
    "    Trader_2r1.append(s[\"Trader\"][\"r1\"])\n",
    "    AMM_2r2.append(s[\"AMM\"][\"r2\"])\n",
    "    Trader_2r2.append(s[\"Trader\"][\"r2\"])   \n",
    "    \n",
    "plt.figure(figsize=(4,4)) \n",
    "plt.plot(AMM_r1,AMM_r2)\n",
    "plt.plot(AMM_2r1,AMM_2r2)\n",
    "plt.title('AMM')\n",
    "plt.xlim([0, 99])\n",
    "plt.ylim([0, 99])\n",
    "plt.xlabel(\"Asset 1\")\n",
    "plt.ylabel(\"Asset 2\")"
   ]
  }
 ],
 "metadata": {
  "kernelspec": {
   "display_name": "Python 3 (ipykernel)",
   "language": "python",
   "name": "python3"
  },
  "language_info": {
   "codemirror_mode": {
    "name": "ipython",
    "version": 3
   },
   "file_extension": ".py",
   "mimetype": "text/x-python",
   "name": "python",
   "nbconvert_exporter": "python",
   "pygments_lexer": "ipython3",
   "version": "3.10.6"
  }
 },
 "nbformat": 4,
 "nbformat_minor": 5
}
